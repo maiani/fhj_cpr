{
 "cells": [
  {
   "cell_type": "code",
   "execution_count": 1,
   "id": "adbbaf70",
   "metadata": {
    "ExecuteTime": {
     "end_time": "2022-01-25T16:45:19.217495Z",
     "start_time": "2022-01-25T16:45:18.628124Z"
    }
   },
   "outputs": [],
   "source": [
    "%matplotlib inline"
   ]
  },
  {
   "cell_type": "code",
   "execution_count": 2,
   "id": "42e6ff5d",
   "metadata": {
    "ExecuteTime": {
     "end_time": "2022-01-25T16:45:22.420562Z",
     "start_time": "2022-01-25T16:45:19.219623Z"
    }
   },
   "outputs": [],
   "source": [
    "import inspect\n",
    "import itertools\n",
    "import json\n",
    "import os\n",
    "import time\n",
    "from typing import Callable\n",
    "\n",
    "import kwant\n",
    "import matplotlib.pyplot as plt\n",
    "import numpy as np\n",
    "import scipy.linalg as la\n",
    "import scipy.signal as signal\n",
    "import scipy.sparse.linalg as sla\n",
    "import xarray as xr\n",
    "from dask.distributed import Client, LocalCluster\n",
    "from dask_jobqueue import PBSCluster\n",
    "from tqdm.notebook import tqdm"
   ]
  },
  {
   "cell_type": "code",
   "execution_count": 3,
   "id": "e9a1c738-89f3-45de-90b4-9d23f1551a07",
   "metadata": {},
   "outputs": [],
   "source": [
    "from fhj import fhj_hamiltonian_sym, generate_pf_tripartite, make_2D_system\n",
    "from physics_utils import constants\n",
    "\n",
    "constants.m_star = 0.026\n",
    "constants.c_k = (\n",
    "    constants.hbar**2\n",
    "    / (2 * constants.m_star * constants.m_e)\n",
    "    / (constants.eV * 1e-3 * 1e-18)\n",
    ")"
   ]
  },
  {
   "cell_type": "code",
   "execution_count": 4,
   "id": "49ab3ace-ece1-44d3-b842-9820ade75a51",
   "metadata": {},
   "outputs": [],
   "source": [
    "simname = \"ruben_test_2\""
   ]
  },
  {
   "cell_type": "code",
   "execution_count": 5,
   "id": "aa5a0414",
   "metadata": {
    "ExecuteTime": {
     "end_time": "2022-01-25T16:45:23.065714Z",
     "start_time": "2022-01-25T16:45:23.059841Z"
    }
   },
   "outputs": [],
   "source": [
    "def get_default_params() -> dict:\n",
    "    \"\"\"\n",
    "    Generate the default prameters dict.\n",
    "    \"\"\"\n",
    "\n",
    "    ############### POTENTIAL LANDSCAPE #######################\n",
    "\n",
    "    params = {\n",
    "        # Material parameters\n",
    "        \"k_c\": 38.0998212 / 0.026,\n",
    "        # Dresselhaus spin-orbit coupling\n",
    "        \"beta\": 0,\n",
    "        ##########\n",
    "        \"alpha_c\": 0,\n",
    "        # Electrostatic potential landscape\n",
    "        \"V\": lambda *args: 0,\n",
    "        # Superconductive pairing potential\n",
    "        \"Delta\": lambda *args: 0,\n",
    "        \"theta\": lambda *args: 0,\n",
    "        # SOC field\n",
    "        \"alpha_x\": lambda *args: 0,\n",
    "        \"alpha_y\": lambda *args: 0,\n",
    "        \"alpha_z\": lambda *args: 0,\n",
    "        # Zeeman field\n",
    "        \"h_x\": lambda *args: 0,\n",
    "        \"h_y\": lambda *args: 0,\n",
    "        \"h_z\": lambda *args: 0,\n",
    "        # Functions\n",
    "        \"cos\": np.cos,\n",
    "        \"sin\": np.sin,\n",
    "    }\n",
    "    return params"
   ]
  },
  {
   "cell_type": "code",
   "execution_count": 6,
   "id": "a1a410bf",
   "metadata": {
    "ExecuteTime": {
     "end_time": "2022-01-25T16:45:23.078313Z",
     "start_time": "2022-01-25T16:45:23.067203Z"
    }
   },
   "outputs": [],
   "source": [
    "def get_default_pf_params_tripartite() -> dict:\n",
    "\n",
    "    \"\"\"\n",
    "    Default potential parameters.\n",
    "    \"\"\"\n",
    "\n",
    "    D0 = 0.250  # Gap in meV\n",
    "\n",
    "    pf_params = dict(\n",
    "        L_junction=180,\n",
    "        mu_C=6,\n",
    "        mu_L=4,\n",
    "        mu_R=4,\n",
    "        L_barr_L=15,\n",
    "        L_barr_R=15,\n",
    "        V_barr_L=3,\n",
    "        V_barr_R=3,\n",
    "        Delta_0=1 * D0,\n",
    "        theta_LR=np.pi,\n",
    "        alpha_z_L= 2.0,\n",
    "        alpha_z_C= 2.0,\n",
    "        alpha_z_R= 2.0,\n",
    "        h_x_L=0.0 * D0,\n",
    "        h_x_C=0.0 * D0,\n",
    "        h_x_R=0.0 * D0,\n",
    "        h_y_L=0.0 * D0,\n",
    "        h_y_C=0.0 * D0,\n",
    "        h_y_R=0.0 * D0,\n",
    "    )\n",
    "\n",
    "    return pf_params"
   ]
  },
  {
   "cell_type": "markdown",
   "id": "7b15d078",
   "metadata": {},
   "source": [
    "## Testing "
   ]
  },
  {
   "cell_type": "code",
   "execution_count": 7,
   "id": "b5d20a23",
   "metadata": {
    "ExecuteTime": {
     "end_time": "2022-01-25T16:45:23.095288Z",
     "start_time": "2022-01-25T16:45:23.088609Z"
    }
   },
   "outputs": [],
   "source": [
    "pf_params = get_default_pf_params_tripartite()\n",
    "V, Delta, theta, alpha_x, alpha_y, alpha_z, h_x, h_y, h_z = generate_pf_tripartite(\n",
    "    **pf_params\n",
    ")"
   ]
  },
  {
   "cell_type": "code",
   "execution_count": 8,
   "id": "6971c788",
   "metadata": {
    "ExecuteTime": {
     "end_time": "2022-01-25T16:45:23.103442Z",
     "start_time": "2022-01-25T16:45:23.098784Z"
    }
   },
   "outputs": [],
   "source": [
    "L_x = 3000  # Length in nanometers\n",
    "a_x = 2  # Discretization step\n",
    "\n",
    "L_y = 160  # Width in nanometers\n",
    "a_y = 2000  # Discretization step. Setting a_y to be much bigger to L_y creates a 1D system"
   ]
  },
  {
   "cell_type": "code",
   "execution_count": 9,
   "id": "d29a8314",
   "metadata": {
    "ExecuteTime": {
     "end_time": "2022-01-25T16:45:23.433217Z",
     "start_time": "2022-01-25T16:45:23.105245Z"
    }
   },
   "outputs": [
    {
     "data": {
      "text/plain": [
       "[<matplotlib.lines.Line2D at 0x7fff80868610>]"
      ]
     },
     "execution_count": 9,
     "metadata": {},
     "output_type": "execute_result"
    },
    {
     "data": {
      "image/png": "[encoded data removed]",
      "text/plain": [
       "<Figure size 800x800 with 7 Axes>"
      ]
     },
     "metadata": {},
     "output_type": "display_data"
    }
   ],
   "source": [
    "x = np.linspace(-100, 100, 100)\n",
    "\n",
    "fig, ax = plt.subplots(nrows=3, ncols=2, figsize=(8, 8))\n",
    "\n",
    "ax[0, 0].plot(x, V(x, 0))\n",
    "ax[0, 1].plot(x, Delta(x, 0), \"C1\")\n",
    "ax[0, 1].twinx().plot(x, theta(x, 0), \"C2\")\n",
    "\n",
    "ax[1, 0].plot(x, alpha_x(x, 0), \"C0\")\n",
    "ax[1, 0].plot(x, alpha_y(x, 0), \"C1\")\n",
    "ax[1, 0].plot(x, alpha_z(x, 0), \"C2\")\n",
    "\n",
    "ax[2, 0].plot(x, h_x(x, 0), \"C0\")\n",
    "ax[2, 0].plot(x, h_y(x, 0), \"C1\")\n",
    "ax[2, 0].plot(x, h_z(x, 0), \"C2\")"
   ]
  },
  {
   "cell_type": "code",
   "execution_count": 10,
   "id": "1be91cda",
   "metadata": {
    "ExecuteTime": {
     "end_time": "2022-01-25T16:45:24.206434Z",
     "start_time": "2022-01-25T16:45:24.061965Z"
    }
   },
   "outputs": [],
   "source": [
    "# syst, lat, hop = make_2D_system(L_x=L_x, L_y=L_y, a_x=a_x, a_y=a_y, with_leads=False)\n",
    "\n",
    "# fig, ax = plt.subplots(figsize=(20, 2))\n",
    "# kwant.plot(syst, ax=ax)\n",
    "\n",
    "# ax.set_xlim(-200, 200)"
   ]
  },
  {
   "cell_type": "code",
   "execution_count": 11,
   "id": "be7002a5-68be-4e3d-b3a8-bb2cae661bba",
   "metadata": {},
   "outputs": [],
   "source": [
    "theta_N = 96\n",
    "theta_ax = np.linspace(0, 2 * np.pi, theta_N, endpoint=False)\n",
    "dtheta = theta_ax[1]\n",
    "\n",
    "k = 80"
   ]
  },
  {
   "cell_type": "code",
   "execution_count": 12,
   "id": "9897ba0a",
   "metadata": {
    "ExecuteTime": {
     "end_time": "2022-01-25T16:45:24.211386Z",
     "start_time": "2022-01-25T16:45:24.207940Z"
    }
   },
   "outputs": [],
   "source": [
    "syst, lat = make_2D_system(L_x=L_x, L_y=L_y, a_x=a_x, a_y=a_y)"
   ]
  },
  {
   "cell_type": "code",
   "execution_count": 13,
   "id": "48746fd2",
   "metadata": {
    "ExecuteTime": {
     "end_time": "2022-01-25T16:45:24.221593Z",
     "start_time": "2022-01-25T16:45:24.212756Z"
    }
   },
   "outputs": [],
   "source": [
    "def diag_theta(params, theta_ax, k):\n",
    "\n",
    "    theta_N = len(theta_ax)\n",
    "\n",
    "    ws = []\n",
    "    vs = []\n",
    "\n",
    "    for n in range(theta_N):\n",
    "\n",
    "        theta_v = theta_ax[n]\n",
    "        params[\"theta\"] = lambda x, y: theta_v * np.heaviside(x, 0)\n",
    "\n",
    "        ham = syst.hamiltonian_submatrix(params=params, sparse=True)\n",
    "        w, v = sla.eigsh(ham, sigma=0, which=\"LM\", k=k)\n",
    "\n",
    "        idxs = np.argsort(w)\n",
    "        ws.append(w[idxs])\n",
    "        vs.append(v[:, idxs])\n",
    "\n",
    "    ws = np.array(ws)\n",
    "    vs = np.array(vs)\n",
    "\n",
    "    vs = None\n",
    "\n",
    "    return ws, vs"
   ]
  },
  {
   "cell_type": "code",
   "execution_count": 14,
   "id": "d160b503",
   "metadata": {
    "ExecuteTime": {
     "end_time": "2022-01-25T16:45:24.228248Z",
     "start_time": "2022-01-25T16:45:24.223326Z"
    }
   },
   "outputs": [],
   "source": [
    "# %%time\n",
    "# params = get_default_params()\n",
    "# pf_params = get_default_pf_params_tripartite()\n",
    "# V, Delta, theta, alpha_x, alpha_y, alpha_z, h_x, h_y, h_z = generate_pf_tripartite(\n",
    "#     **pf_params\n",
    "# )\n",
    "# params.update(\n",
    "#     V=V,\n",
    "#     Delta=Delta,\n",
    "#     theta=theta,\n",
    "#     alpha_x=alpha_x,\n",
    "#     alpha_y=alpha_y,\n",
    "#     alpha_z=alpha_z,\n",
    "#     h_x=h_x,\n",
    "#     h_y=h_y,\n",
    "#     h_z=h_z,\n",
    "# )\n",
    "\n",
    "# ws, vs = diag_theta(params, theta_ax, k=k)\n",
    "\n",
    "# fig, ax = plt.subplots()\n",
    "# ax.plot(theta_ax, ws, \"-\")\n",
    "\n",
    "# ax.set_ylim(-1, 1)"
   ]
  },
  {
   "cell_type": "markdown",
   "id": "f5933acd",
   "metadata": {},
   "source": [
    "# Phase diagram"
   ]
  },
  {
   "cell_type": "code",
   "execution_count": 15,
   "id": "a708dcfb",
   "metadata": {
    "ExecuteTime": {
     "end_time": "2022-01-25T16:45:34.985949Z",
     "start_time": "2022-01-25T16:45:34.980207Z"
    }
   },
   "outputs": [],
   "source": [
    "# a_N = 101\n",
    "# a_ax = np.linspace(0, 2 * np.pi, a_N)\n",
    "\n",
    "# np.arange(50, 550, 4)\n",
    "# a_N = len(a_ax)\n",
    "\n",
    "b_N = 41\n",
    "b_ax = np.linspace(0, 5, b_N) * 0.250\n",
    "\n",
    "# b_N = 81\n",
    "# b_ax = np.linspace(0, 10, b_N)\n",
    "\n",
    "a_N = 32\n",
    "a_ax = np.linspace(0, 2 * np.pi, a_N, endpoint=False)\n",
    "\n",
    "a, b = np.meshgrid(a_ax, b_ax, indexing=\"ij\")\n",
    "\n",
    "\n",
    "def wrapper(prm_tpl, k=k):\n",
    "\n",
    "    a, b = prm_tpl\n",
    "\n",
    "    # # Change potentials parameters\n",
    "    pf_params = get_default_pf_params_tripartite()\n",
    "    pf_params.update(\n",
    "        # L_junction=a,\n",
    "        # mu_C=b,\n",
    "        # mu_L=a,\n",
    "        # mu_R=a,\n",
    "        # L_barr_L=20,\n",
    "        # L_barr_R=20,\n",
    "        # V_barr_L= a,\n",
    "        # V_barr_R= a,\n",
    "        # Delta_0=D0,\n",
    "        # theta_LR=np.pi,\n",
    "        # alpha_x_L=b,\n",
    "        # alpha_y_L=b,\n",
    "        # alpha_z_L=b,\n",
    "        # alpha_x_C=b,\n",
    "        alpha_y_C= 2.0 * np.sin(a),\n",
    "        alpha_z_C= 2.0 * np.cos(a),\n",
    "        # alpha_x_R=b,\n",
    "        # alpha_y_R=b,\n",
    "        # alpha_z_R=b,\n",
    "        # h_x_L=a,# * np.cos(b),  # b / np.sqrt(2),  # np.sqrt(a**2+b**2),\n",
    "        # h_y_L=a * np.sin(b),\n",
    "        h_x_C= b * 0.250 * np.cos(np.pi/6) * np.cos(np.pi/6),  # * np.cos(b),\n",
    "        h_y_C= b * 0.250 * np.sin(np.pi/6) * np.cos(np.pi/6),\n",
    "        h_z_C= b * 0.250 * np.sin(np.pi/6),\n",
    "        # h_x_R=a,# * np.cos(b),\n",
    "        # h_y_R=a * np.sin(b),\n",
    "    )\n",
    "    # Generate potentials\n",
    "    V, Delta, theta, alpha_x, alpha_y, alpha_z, h_x, h_y, h_z = generate_pf_tripartite(\n",
    "        **pf_params\n",
    "    )\n",
    "\n",
    "    # Change other parameters\n",
    "    params = get_default_params()\n",
    "    params.update(\n",
    "        V=V,\n",
    "        Delta=Delta,\n",
    "        theta=theta,\n",
    "        alpha_x=alpha_x,\n",
    "        alpha_y=alpha_y,\n",
    "        alpha_z=alpha_z,\n",
    "        h_x=h_x,\n",
    "        h_y=h_y,\n",
    "        h_z=h_z,\n",
    "    )\n",
    "\n",
    "    return diag_theta(params, theta_ax, k)"
   ]
  },
  {
   "cell_type": "code",
   "execution_count": 16,
   "id": "fe6ae6c8",
   "metadata": {
    "ExecuteTime": {
     "end_time": "2022-01-25T16:45:35.039487Z",
     "start_time": "2022-01-25T16:45:34.987421Z"
    }
   },
   "outputs": [
    {
     "name": "stdout",
     "output_type": "stream",
     "text": [
      "Creating tuple list\n"
     ]
    },
    {
     "data": {
      "application/vnd.jupyter.widget-view+json": {
       "model_id": "bbf5bac90f614daeb62f33aceb998d2a",
       "version_major": 2,
       "version_minor": 0
      },
      "text/plain": [
       "  0%|          | 0/1312 [00:00<?, ?it/s]"
      ]
     },
     "metadata": {},
     "output_type": "display_data"
    },
    {
     "name": "stdout",
     "output_type": "stream",
     "text": [
      "1312 tuples\n"
     ]
    }
   ],
   "source": [
    "print(\"Creating tuple list\")\n",
    "\n",
    "idx_tpl_list = []\n",
    "\n",
    "for i, j in tqdm(np.ndindex(a_N, b_N), total=a_N * b_N):\n",
    "    idx_tpl_list.append((i, j))\n",
    "\n",
    "prm_tpl_list = list(map(lambda tpl: (a[tpl], b[tpl]), idx_tpl_list))\n",
    "\n",
    "print(f\"{len(prm_tpl_list)} tuples\")"
   ]
  },
  {
   "cell_type": "code",
   "execution_count": 17,
   "id": "2fa3197c",
   "metadata": {
    "ExecuteTime": {
     "end_time": "2022-01-25T16:45:39.696245Z",
     "start_time": "2022-01-25T16:45:35.040858Z"
    }
   },
   "outputs": [],
   "source": [
    "env_extra = [\n",
    "    \"export OMP_NUM_THREADS=4\",\n",
    "    \"export OPENBLAS_NUM_THREADS=4\",\n",
    "    \"export MKL_NUM_THREADS=4\",\n",
    "    \"export VECLIB_MAXIMUM_THREADS=4\",\n",
    "    \"export NUMEXPR_NUM_THREADS=4\",\n",
    "]\n",
    "\n",
    "cluster = PBSCluster(\n",
    "    walltime=\"12:00:00\",\n",
    "    cores=10,\n",
    "    memory=\"185gb\",\n",
    "    account=\"ku_00125\",\n",
    "    resource_spec=\"nodes=1:ppn=40:thinnode,mem=185gb\",\n",
    "    local_directory=\"./workspace/temp/local\",\n",
    "    log_directory=\"./workspace/temp/log\",\n",
    "    job_extra_directives=[\"-W group_list=ku_00125\"],\n",
    "    job_script_prologue=env_extra,\n",
    ")\n",
    "\n",
    "######################### LOCAL CLUSTER ###########################\n",
    "# cluster = LocalCluster(n_workers=4)"
   ]
  },
  {
   "cell_type": "code",
   "execution_count": 18,
   "id": "2e3d6207-6411-4b5d-9d7c-728809a47f30",
   "metadata": {},
   "outputs": [],
   "source": [
    "client = Client(cluster)"
   ]
  },
  {
   "cell_type": "code",
   "execution_count": 19,
   "id": "a20c7d67-361d-48a6-8390-b1fe63a7b4a3",
   "metadata": {},
   "outputs": [
    {
     "name": "stdout",
     "output_type": "stream",
     "text": [
      "#!/usr/bin/env bash\n",
      "\n",
      "#PBS -N dask-worker\n",
      "#PBS -A ku_00125\n",
      "#PBS -l nodes=1:ppn=40:thinnode,mem=185gb\n",
      "#PBS -l walltime=12:00:00\n",
      "#PBS -e ./workspace/temp/log/\n",
      "#PBS -o ./workspace/temp/log/\n",
      "#PBS -W group_list=ku_00125\n",
      "export OMP_NUM_THREADS=4\n",
      "export OPENBLAS_NUM_THREADS=4\n",
      "export MKL_NUM_THREADS=4\n",
      "export VECLIB_MAXIMUM_THREADS=4\n",
      "export NUMEXPR_NUM_THREADS=4\n",
      "/home/people/andmai/workspace/miniconda3/envs/fnwjj/bin/python -m distributed.cli.dask_worker tcp://10.45.12.96:43178 --nthreads 2 --nworkers 5 --memory-limit 34.46GiB --name dummy-name --nanny --death-timeout 60 --local-directory ./workspace/temp/local\n",
      "\n",
      "<Client: 'tcp://10.45.12.96:43178' processes=0 threads=0, memory=0 B>\n"
     ]
    }
   ],
   "source": [
    "print(cluster.job_script())\n",
    "print(client)"
   ]
  },
  {
   "cell_type": "code",
   "execution_count": 20,
   "id": "97a1702c-25d4-4a80-a6e4-97b25c0cab35",
   "metadata": {},
   "outputs": [
    {
     "data": {
      "application/vnd.jupyter.widget-view+json": {
       "model_id": "4e53e3095e154418b4b7386ee9fafcbf",
       "version_major": 2,
       "version_minor": 0
      },
      "text/plain": [
       "Tab(children=(HTML(value='<div class=\"jp-RenderedHTMLCommon jp-RenderedHTML jp-mod-trusted jp-OutputArea-outpu…"
      ]
     },
     "metadata": {},
     "output_type": "display_data"
    }
   ],
   "source": [
    "cluster"
   ]
  },
  {
   "cell_type": "code",
   "execution_count": 21,
   "id": "700c7f7e-c4e3-4f7f-8955-88351be28cbf",
   "metadata": {},
   "outputs": [],
   "source": [
    "# client.wait_for_workers(450)\n",
    "client.upload_file(\"physics_utils.py\")\n",
    "client.upload_file(\"fhj.py\");"
   ]
  },
  {
   "cell_type": "code",
   "execution_count": 22,
   "id": "39d89e8f",
   "metadata": {
    "ExecuteTime": {
     "end_time": "2022-01-25T16:45:42.405564Z",
     "start_time": "2022-01-25T16:45:39.700076Z"
    }
   },
   "outputs": [
    {
     "name": "stdout",
     "output_type": "stream",
     "text": [
      "Launching futures\n"
     ]
    }
   ],
   "source": [
    "print(\"Launching futures\")\n",
    "start_time = time.time()\n",
    "futures = client.map(wrapper, prm_tpl_list)"
   ]
  },
  {
   "cell_type": "code",
   "execution_count": 23,
   "id": "02270307-cedc-4fdc-8477-d9b6d15d7ded",
   "metadata": {},
   "outputs": [],
   "source": [
    "cluster.scale(1000)"
   ]
  },
  {
   "cell_type": "code",
   "execution_count": 24,
   "id": "ac1d169d",
   "metadata": {
    "ExecuteTime": {
     "end_time": "2022-01-25T16:52:41.470880Z",
     "start_time": "2022-01-25T16:45:42.448878Z"
    }
   },
   "outputs": [
    {
     "name": "stdout",
     "output_type": "stream",
     "text": [
      "Finished :      1312 ( 100.00% )\n",
      "Pending  :         0 (  0.00% )\n",
      "Lost     :         0 (  0.00% )\n",
      "Error    :         0 (  0.00% )\n",
      "TSS      : 0H 31M 39.03S\n",
      "ETA      : 0H 0M 0.00S\n"
     ]
    }
   ],
   "source": [
    "from IPython.display import clear_output\n",
    "\n",
    "dt = 5\n",
    "errdretry = True\n",
    "pending_retry_time = 1e50\n",
    "\n",
    "futures_number = len(futures)\n",
    "\n",
    "log = \"\"\n",
    "\n",
    "time_reset = time.time()\n",
    "\n",
    "while True:\n",
    "    clear_output(wait=True)\n",
    "\n",
    "    n_f = int(np.sum([1 for f in futures if f.status == \"finished\"]))\n",
    "    n_p = int(np.sum([1 for f in futures if f.status == \"pending\"]))\n",
    "    n_l = int(np.sum([1 for f in futures if f.status == \"lost\"]))\n",
    "    n_e = int(np.sum([1 for f in futures if f.status == \"error\"]))\n",
    "\n",
    "    pc_f = n_f / futures_number\n",
    "    pc_p = n_p / futures_number\n",
    "    pc_l = n_l / futures_number\n",
    "    pc_e = n_e / futures_number\n",
    "\n",
    "    print(f\"Finished : {n_f:9d} ( {pc_f:6.2%} )\")\n",
    "    print(f\"Pending  : {n_p:9d} ( {pc_p:6.2%} )\")\n",
    "    print(f\"Lost     : {n_l:9d} ( {pc_l:6.2%} )\")\n",
    "    print(f\"Error    : {n_e:9d} ( {pc_e:6.2%} )\")\n",
    "\n",
    "    if start_time:\n",
    "        time_passed = time.time() - start_time\n",
    "        print(\n",
    "            f\"TSS      : {int(time_passed//3600)}H {int(time_passed%3600)//60}M {(time_passed%60):4.2f}S\"\n",
    "        )\n",
    "\n",
    "    if pc_f != 0:\n",
    "        eta = time_passed * (1 - pc_f) / pc_f\n",
    "        print(f\"ETA      : {int(eta//3600)}H {int(eta%3600)//60}M {(eta%60):4.2f}S\")\n",
    "\n",
    "    if (pc_p == 0) and (pc_l == 0):\n",
    "        break\n",
    "\n",
    "    print(\"\\n\\n\\n\" + log)\n",
    "\n",
    "    if errdretry:\n",
    "\n",
    "        futures_erred = [f for f in futures if f.status == \"error\"]\n",
    "\n",
    "        for f in futures_erred:\n",
    "            log += f\"{int(time_passed//3600)}H {int(time_passed%3600)//60}M {(time_passed%60):4.2f}S : \"\n",
    "            log += str(type(f.exception())) + \"\\n\"\n",
    "            f.retry()\n",
    "\n",
    "    if time.time() - time_reset > pending_retry_time:\n",
    "\n",
    "        futures_pending = [f for f in futures if f.status == \"pending\"]\n",
    "        for f in futures_pending:\n",
    "            f.retry()\n",
    "\n",
    "        log += f\"{int(time_passed//3600)}H {int(time_passed%3600)//60}M {(time_passed%60):4.2f}S : \"\n",
    "        log += \"Repeat pending futures.\\n\"\n",
    "\n",
    "        time_reset = time.time()\n",
    "\n",
    "    time.sleep(dt)"
   ]
  },
  {
   "cell_type": "code",
   "execution_count": 25,
   "id": "d13e5cde",
   "metadata": {
    "ExecuteTime": {
     "end_time": "2022-01-25T16:52:41.504201Z",
     "start_time": "2022-01-25T16:52:41.472468Z"
    }
   },
   "outputs": [
    {
     "data": {
      "application/vnd.jupyter.widget-view+json": {
       "model_id": "095c3c94f3fe4e1abe664f180da07e66",
       "version_major": 2,
       "version_minor": 0
      },
      "text/plain": [
       "0it [00:00, ?it/s]"
      ]
     },
     "metadata": {},
     "output_type": "display_data"
    }
   ],
   "source": [
    "futures_pending = [\n",
    "    f\n",
    "    for f in futures\n",
    "    if f.status == \"pending\" or f.status == \"lost\" or f.status == \"error\"\n",
    "]\n",
    "for f in tqdm(futures_pending):\n",
    "    f.retry()"
   ]
  },
  {
   "cell_type": "code",
   "execution_count": 26,
   "id": "9fd2027e",
   "metadata": {
    "ExecuteTime": {
     "end_time": "2022-01-25T16:52:44.743260Z",
     "start_time": "2022-01-25T16:52:41.505993Z"
    }
   },
   "outputs": [
    {
     "name": "stdout",
     "output_type": "stream",
     "text": [
      "Collecting results\n"
     ]
    }
   ],
   "source": [
    "print(\"Collecting results\")\n",
    "\n",
    "futures_N = len(futures)\n",
    "res = client.gather(futures)"
   ]
  },
  {
   "cell_type": "code",
   "execution_count": 27,
   "id": "8a510938",
   "metadata": {
    "ExecuteTime": {
     "end_time": "2022-01-25T16:52:44.864797Z",
     "start_time": "2022-01-25T16:52:44.745015Z"
    }
   },
   "outputs": [
    {
     "data": {
      "application/vnd.jupyter.widget-view+json": {
       "model_id": "3f70feaf49814a0e9673d271719de8dd",
       "version_major": 2,
       "version_minor": 0
      },
      "text/plain": [
       "  0%|          | 0/1312 [00:00<?, ?it/s]"
      ]
     },
     "metadata": {},
     "output_type": "display_data"
    }
   ],
   "source": [
    "ws = np.zeros((a_N, b_N, theta_N, k))\n",
    "\n",
    "for m in tqdm(range(futures_N)):\n",
    "    i, j = idx_tpl_list[m]\n",
    "    ws[i, j], _ = res[m]"
   ]
  },
  {
   "cell_type": "code",
   "execution_count": 28,
   "id": "92da3312",
   "metadata": {
    "ExecuteTime": {
     "end_time": "2022-01-25T16:52:44.871066Z",
     "start_time": "2022-01-25T16:52:44.866294Z"
    }
   },
   "outputs": [],
   "source": [
    "pd = xr.DataArray(\n",
    "    ws,\n",
    "    dims=(\"a\", \"b\", \"theta\", \"k\"),\n",
    "    coords={\n",
    "        \"a\": a_ax,\n",
    "        \"b\": b_ax,\n",
    "        \"theta\": theta_ax,\n",
    "    },\n",
    ")\n",
    "\n",
    "ds = pd.to_dataset(name=\"ws\")"
   ]
  },
  {
   "cell_type": "code",
   "execution_count": 29,
   "id": "a972b4e0-6cb9-4278-a743-0890d3b273c3",
   "metadata": {},
   "outputs": [],
   "source": [
    "os.makedirs(f\"./output/{simname}/\", exist_ok=True)"
   ]
  },
  {
   "cell_type": "code",
   "execution_count": 30,
   "id": "2e0e5d4e",
   "metadata": {
    "ExecuteTime": {
     "end_time": "2022-01-25T16:52:45.421267Z",
     "start_time": "2022-01-25T16:52:44.872986Z"
    }
   },
   "outputs": [],
   "source": [
    "ds.to_netcdf(\n",
    "    f\"./output/{simname}/{simname}.nc\"\n",
    ")  # , engine=\"h5netcdf\", invalid_netcdf=True)"
   ]
  },
  {
   "cell_type": "code",
   "execution_count": 31,
   "id": "2adda62c-f503-438d-b995-39539b1386e5",
   "metadata": {},
   "outputs": [],
   "source": [
    "def clean_dp(dp: dict) -> dict:\n",
    "    for key in dp.keys():\n",
    "        if isinstance(dp[key], np.ufunc):\n",
    "            dp[key] = None\n",
    "        elif isinstance(dp[key], Callable):\n",
    "            dp[key] = inspect.getsource(dp[key])\n",
    "    return dp\n",
    "\n",
    "\n",
    "dp_saved = get_default_params()\n",
    "dp_saved = clean_dp(dp_saved)\n",
    "with open(\n",
    "    f\"./output/{simname}/{simname}-params.json\",\n",
    "    \"w\",\n",
    ") as json_file:\n",
    "    json.dump(dp_saved, json_file, indent=4)\n",
    "\n",
    "\n",
    "dp_saved = get_default_pf_params_tripartite()\n",
    "dp_saved = clean_dp(dp_saved)\n",
    "with open(\n",
    "    f\"./output/{simname}/{simname}-pf-params.json\",\n",
    "    \"w\",\n",
    ") as json_file:\n",
    "    json.dump(dp_saved, json_file, indent=4)"
   ]
  },
  {
   "cell_type": "code",
   "execution_count": 32,
   "id": "994cf836-0eeb-4567-822c-a502133de48c",
   "metadata": {},
   "outputs": [
    {
     "name": "stderr",
     "output_type": "stream",
     "text": [
      "2023-05-23 16:16:25,478 - distributed.client - ERROR - \n",
      "ConnectionRefusedError: [Errno 111] Connection refused\n",
      "\n",
      "The above exception was the direct cause of the following exception:\n",
      "\n",
      "Traceback (most recent call last):\n",
      "  File \"/home/people/andmai/workspace/miniconda3/envs/fnwjj/lib/python3.10/site-packages/distributed/comm/core.py\", line 291, in connect\n",
      "    comm = await asyncio.wait_for(\n",
      "  File \"/home/people/andmai/workspace/miniconda3/envs/fnwjj/lib/python3.10/asyncio/tasks.py\", line 445, in wait_for\n",
      "    return fut.result()\n",
      "  File \"/home/people/andmai/workspace/miniconda3/envs/fnwjj/lib/python3.10/site-packages/distributed/comm/tcp.py\", line 503, in connect\n",
      "    convert_stream_closed_error(self, e)\n",
      "  File \"/home/people/andmai/workspace/miniconda3/envs/fnwjj/lib/python3.10/site-packages/distributed/comm/tcp.py\", line 142, in convert_stream_closed_error\n",
      "    raise CommClosedError(f\"in {obj}: {exc.__class__.__name__}: {exc}\") from exc\n",
      "distributed.comm.core.CommClosedError: in <distributed.comm.tcp.TCPConnector object at 0x7fff7206c880>: ConnectionRefusedError: [Errno 111] Connection refused\n",
      "\n",
      "During handling of the above exception, another exception occurred:\n",
      "\n",
      "Traceback (most recent call last):\n",
      "  File \"/home/people/andmai/workspace/miniconda3/envs/fnwjj/lib/python3.10/site-packages/distributed/utils.py\", line 742, in wrapper\n",
      "    return await func(*args, **kwargs)\n",
      "  File \"/home/people/andmai/workspace/miniconda3/envs/fnwjj/lib/python3.10/site-packages/distributed/client.py\", line 1246, in _reconnect\n",
      "    await self._ensure_connected(timeout=timeout)\n",
      "  File \"/home/people/andmai/workspace/miniconda3/envs/fnwjj/lib/python3.10/site-packages/distributed/client.py\", line 1276, in _ensure_connected\n",
      "    comm = await connect(\n",
      "  File \"/home/people/andmai/workspace/miniconda3/envs/fnwjj/lib/python3.10/site-packages/distributed/comm/core.py\", line 315, in connect\n",
      "    await asyncio.sleep(backoff)\n",
      "  File \"/home/people/andmai/workspace/miniconda3/envs/fnwjj/lib/python3.10/asyncio/tasks.py\", line 605, in sleep\n",
      "    return await future\n",
      "asyncio.exceptions.CancelledError\n",
      "\n",
      "Traceback (most recent call last):\n",
      "  File \"/home/people/andmai/workspace/miniconda3/envs/fnwjj/lib/python3.10/site-packages/distributed/comm/tcp.py\", line 235, in read\n",
      "    n = await stream.read_into(chunk)\n",
      "tornado.iostream.StreamClosedError: Stream is closed\n",
      "\n",
      "The above exception was the direct cause of the following exception:\n",
      "\n",
      "Traceback (most recent call last):\n",
      "  File \"/home/people/andmai/workspace/miniconda3/envs/fnwjj/lib/python3.10/site-packages/distributed/client.py\", line 1443, in _handle_report\n",
      "    msgs = await self.scheduler_comm.comm.read()\n",
      "  File \"/home/people/andmai/workspace/miniconda3/envs/fnwjj/lib/python3.10/site-packages/distributed/comm/tcp.py\", line 241, in read\n",
      "    convert_stream_closed_error(self, e)\n",
      "  File \"/home/people/andmai/workspace/miniconda3/envs/fnwjj/lib/python3.10/site-packages/distributed/comm/tcp.py\", line 144, in convert_stream_closed_error\n",
      "    raise CommClosedError(f\"in {obj}: {exc}\") from exc\n",
      "distributed.comm.core.CommClosedError: in <TCP (closed) Client->Scheduler local=tcp://10.45.12.96:60566 remote=tcp://10.45.12.96:43178>: Stream is closed\n",
      "\n",
      "During handling of the above exception, another exception occurred:\n",
      "\n",
      "Traceback (most recent call last):\n",
      "  File \"/home/people/andmai/workspace/miniconda3/envs/fnwjj/lib/python3.10/site-packages/distributed/utils.py\", line 742, in wrapper\n",
      "    return await func(*args, **kwargs)\n",
      "  File \"/home/people/andmai/workspace/miniconda3/envs/fnwjj/lib/python3.10/site-packages/distributed/client.py\", line 1451, in _handle_report\n",
      "    await self._reconnect()\n",
      "  File \"/home/people/andmai/workspace/miniconda3/envs/fnwjj/lib/python3.10/site-packages/distributed/utils.py\", line 742, in wrapper\n",
      "    return await func(*args, **kwargs)\n",
      "  File \"/home/people/andmai/workspace/miniconda3/envs/fnwjj/lib/python3.10/site-packages/distributed/client.py\", line 1246, in _reconnect\n",
      "    await self._ensure_connected(timeout=timeout)\n",
      "  File \"/home/people/andmai/workspace/miniconda3/envs/fnwjj/lib/python3.10/site-packages/distributed/client.py\", line 1276, in _ensure_connected\n",
      "    comm = await connect(\n",
      "  File \"/home/people/andmai/workspace/miniconda3/envs/fnwjj/lib/python3.10/site-packages/distributed/comm/core.py\", line 315, in connect\n",
      "    await asyncio.sleep(backoff)\n",
      "  File \"/home/people/andmai/workspace/miniconda3/envs/fnwjj/lib/python3.10/asyncio/tasks.py\", line 605, in sleep\n",
      "    return await future\n",
      "asyncio.exceptions.CancelledError\n"
     ]
    }
   ],
   "source": [
    "cluster.close()\n",
    "client.close()"
   ]
  },
  {
   "cell_type": "code",
   "execution_count": null,
   "id": "889d7965-d426-4d19-bc64-6a5f680aee11",
   "metadata": {},
   "outputs": [],
   "source": []
  }
 ],
 "metadata": {
  "interpreter": {
   "hash": "4232733cd2b78061557fee225febb8f4a80345c7c9bb246cf17afc297c4526d3"
  },
  "kernelspec": {
   "display_name": "Python [conda env:fnwjj]",
   "language": "python",
   "name": "conda-env-fnwjj-py"
  },
  "language_info": {
   "codemirror_mode": {
    "name": "ipython",
    "version": 3
   },
   "file_extension": ".py",
   "mimetype": "text/x-python",
   "name": "python",
   "nbconvert_exporter": "python",
   "pygments_lexer": "ipython3",
   "version": "3.10.4"
  }
 },
 "nbformat": 4,
 "nbformat_minor": 5
}
