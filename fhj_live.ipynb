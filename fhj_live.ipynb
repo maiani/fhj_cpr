{
 "cells": [
  {
   "cell_type": "code",
   "execution_count": null,
   "id": "adbbaf70",
   "metadata": {
    "ExecuteTime": {
     "end_time": "2022-01-25T16:45:19.217495Z",
     "start_time": "2022-01-25T16:45:18.628124Z"
    }
   },
   "outputs": [],
   "source": [
    "%matplotlib inline"
   ]
  },
  {
   "cell_type": "code",
   "execution_count": null,
   "id": "42e6ff5d",
   "metadata": {
    "ExecuteTime": {
     "end_time": "2022-01-25T16:45:22.420562Z",
     "start_time": "2022-01-25T16:45:19.219623Z"
    }
   },
   "outputs": [],
   "source": [
    "import itertools\n",
    "import os\n",
    "import time\n",
    "\n",
    "import kwant\n",
    "import matplotlib.pyplot as plt\n",
    "import numpy as np\n",
    "import scipy.linalg as la\n",
    "import scipy.signal as signal\n",
    "import scipy.sparse.linalg as sla\n",
    "from qm_tools import *\n",
    "from tqdm.notebook import tqdm"
   ]
  },
  {
   "cell_type": "code",
   "execution_count": null,
   "id": "7979d40e-8c3d-4bc1-92a8-e9068bef669a",
   "metadata": {},
   "outputs": [],
   "source": [
    "plt.style.use(\"sans_style.mplstyle\")\n",
    "plt.close(\"all\")"
   ]
  },
  {
   "cell_type": "code",
   "execution_count": null,
   "id": "e9a1c738-89f3-45de-90b4-9d23f1551a07",
   "metadata": {},
   "outputs": [],
   "source": [
    "from fhj import (\n",
    "    fhj_hamiltonian_sym,\n",
    "    generate_pf_domains,\n",
    "    generate_pf_tripartite,\n",
    "    get_default_params,\n",
    "    get_default_pf_params_domains,\n",
    "    get_default_pf_params_tripartite,\n",
    "    make_2D_system,\n",
    ")\n",
    "from physics_utils import constants, pauli\n",
    "\n",
    "constants.m_star = 0.026\n",
    "constants.c_k = (\n",
    "    constants.hbar ** 2\n",
    "    / (2 * constants.m_star * constants.m_e)\n",
    "    / (constants.eV * 1e-3 * 1e-18)\n",
    ")"
   ]
  },
  {
   "cell_type": "code",
   "execution_count": null,
   "id": "b5d20a23",
   "metadata": {
    "ExecuteTime": {
     "end_time": "2022-01-25T16:45:23.095288Z",
     "start_time": "2022-01-25T16:45:23.088609Z"
    }
   },
   "outputs": [],
   "source": [
    "params = {\n",
    "    # Material params\n",
    "    \"k_c\": 38.0998212 / 0.026,\n",
    "    # Spin orbit\n",
    "    \"alpha_x\": 0,\n",
    "    \"alpha_y\": 0,\n",
    "    \"alpha_z\": 0,\n",
    "    # Electrostatics\n",
    "    \"V\": lambda *args: 0,\n",
    "    # Induced terms params\n",
    "    \"Delta\": lambda *args: 0,\n",
    "    \"theta\": lambda *args: 0,\n",
    "    # Zeeman field\n",
    "    \"h_x\": lambda *args: 0,\n",
    "    \"h_y\": lambda *args: 0,\n",
    "    \"h_z\": lambda *args: 0,\n",
    "    # Other\n",
    "    \"cos\": np.cos,\n",
    "    \"sin\": np.sin,\n",
    "}\n",
    "\n",
    "Delta_0 = 0.250\n",
    "\n",
    "pf_params = dict(\n",
    "    L_junction=180,\n",
    "    mu_C=3.0,\n",
    "    mu_L=1.0,\n",
    "    mu_R=1.0,\n",
    "    L_barr_L=0,\n",
    "    L_barr_R=0,\n",
    "    V_barr_L=0.5,\n",
    "    V_barr_R=0.5,\n",
    "    Delta_0=Delta_0,\n",
    "    theta_LR=np.pi,\n",
    "    h_x_L=0.8 * Delta_0,\n",
    "    h_x_C=0.8 * Delta_0,\n",
    "    h_x_R=0.8 * Delta_0,\n",
    "    h_y_L=0.0,\n",
    "    h_y_C=0.0,\n",
    "    h_y_R=0.0,\n",
    ")\n",
    "\n",
    "V, Delta, theta, h_x, h_y, h_z = generate_pf_tripartite(**pf_params)\n",
    "params.update(V=V, Delta=Delta, theta=theta, h_x=h_x, h_y=h_y, h_z=h_z)"
   ]
  },
  {
   "cell_type": "code",
   "execution_count": null,
   "id": "6971c788",
   "metadata": {
    "ExecuteTime": {
     "end_time": "2022-01-25T16:45:23.103442Z",
     "start_time": "2022-01-25T16:45:23.098784Z"
    }
   },
   "outputs": [],
   "source": [
    "L_x = 6000  # Length in nanometers\n",
    "a_x = 4  # Discretization step\n",
    "\n",
    "L_y = 20  # Width in nanometers\n",
    "a_y = 1000  # Discretization step. Setting a_y to be much bigger to L_y creates a 1D system"
   ]
  },
  {
   "cell_type": "code",
   "execution_count": null,
   "id": "d29a8314",
   "metadata": {
    "ExecuteTime": {
     "end_time": "2022-01-25T16:45:23.433217Z",
     "start_time": "2022-01-25T16:45:23.105245Z"
    }
   },
   "outputs": [],
   "source": [
    "x = np.linspace(-400, 400, 100)\n",
    "\n",
    "fig, (ax1, ax2, ax3) = plt.subplots(nrows=3, figsize=(4, 8), dpi=100)\n",
    "\n",
    "ax1.plot(x, V(x, 0), \"-C0\", label=r\"$V$\")\n",
    "ax1b = ax1.twinx()\n",
    "ax1b.plot(x, Delta(x, 0), \"-C1\", label=r\"$\\Delta$\")\n",
    "ax1b.plot(x, h_x(x, 0), \"-C2\", label=r\"$h_x$\")\n",
    "ax1b.plot(x, h_y(x, 0), \"-C3\", label=r\"$h_y$\")\n",
    "ax1b.legend()\n",
    "\n",
    "# ax2.twinx().plot(x, theta(x, 0), \"-C2\")\n",
    "\n",
    "# ax3.plot(x, h_x(x, 0))"
   ]
  },
  {
   "cell_type": "code",
   "execution_count": null,
   "id": "9897ba0a",
   "metadata": {
    "ExecuteTime": {
     "end_time": "2022-01-25T16:45:24.211386Z",
     "start_time": "2022-01-25T16:45:24.207940Z"
    }
   },
   "outputs": [],
   "source": [
    "theta_N = 60\n",
    "theta_ax = np.linspace(0, 2 * np.pi, theta_N, endpoint=False)  # + 0.001\n",
    "dtheta = theta_ax[1]\n",
    "\n",
    "k = 100\n",
    "\n",
    "syst, lat, hop = make_2D_system(L_x=L_x, L_y=L_y, a_x=a_x, a_y=a_y, with_leads=False)"
   ]
  },
  {
   "cell_type": "code",
   "execution_count": null,
   "id": "789723af-8ffa-43f1-a7f5-7ea78c4b2824",
   "metadata": {},
   "outputs": [],
   "source": [
    "fig, ax = plt.subplots(figsize=(20, 2))\n",
    "kwant.plot(syst, ax=ax)\n",
    "\n",
    "ax.set_xlim(-200, 200)"
   ]
  },
  {
   "cell_type": "code",
   "execution_count": null,
   "id": "48746fd2",
   "metadata": {
    "ExecuteTime": {
     "end_time": "2022-01-25T16:45:24.221593Z",
     "start_time": "2022-01-25T16:45:24.212756Z"
    }
   },
   "outputs": [],
   "source": [
    "def diag_theta(params, theta_ax, k):\n",
    "\n",
    "    theta_N = len(theta_ax)\n",
    "\n",
    "    ws = []\n",
    "    vs = []\n",
    "\n",
    "    for n in tqdm(range(theta_N)):\n",
    "\n",
    "        theta_v = theta_ax[n]\n",
    "        params[\"theta\"] = lambda x, y: theta_v * np.heaviside(x, 0)\n",
    "\n",
    "        ham = syst.hamiltonian_submatrix(params=params, sparse=True)\n",
    "        w, v = sla.eigsh(ham, sigma=0, which=\"LM\", k=k)\n",
    "\n",
    "        idxs = np.argsort(w)\n",
    "        ws.append(w[idxs])\n",
    "        vs.append(v[:, idxs])\n",
    "\n",
    "    ws = np.array(ws)\n",
    "    vs = np.array(vs)\n",
    "\n",
    "    return ws, vs"
   ]
  },
  {
   "cell_type": "code",
   "execution_count": null,
   "id": "d160b503",
   "metadata": {
    "ExecuteTime": {
     "end_time": "2022-01-25T16:45:24.228248Z",
     "start_time": "2022-01-25T16:45:24.223326Z"
    }
   },
   "outputs": [],
   "source": [
    "ws, vs = diag_theta(params, theta_ax, k=k)\n",
    "ws, vs = sort_eigensystem(ws, vs)"
   ]
  },
  {
   "cell_type": "code",
   "execution_count": null,
   "id": "d7c7a7bc-102d-4100-a107-8247f0dbe367",
   "metadata": {},
   "outputs": [],
   "source": [
    "ie = np.diff(ws, axis=0)"
   ]
  },
  {
   "cell_type": "code",
   "execution_count": null,
   "id": "22077311-2208-4cc6-9be2-f124cc48dfc8",
   "metadata": {},
   "outputs": [],
   "source": [
    "fig, ax = plt.subplots(figsize=(3.375, 2))\n",
    "for n in range(40, 50):\n",
    "    ax.plot(theta_ax[:-1], ie[:, n] / Delta_0, '-')\n",
    "fig.tight_layout()"
   ]
  },
  {
   "cell_type": "code",
   "execution_count": null,
   "id": "9213afda-9044-414c-94f9-70737e157ad7",
   "metadata": {},
   "outputs": [],
   "source": [
    "fig, ax = plt.subplots(figsize=(3.375, 2))\n",
    "for n in range(40, 50):\n",
    "    ax.plot(theta_ax, ws[:, n] / Delta_0, '-')\n",
    "ax.set_ylim(-3, 3)\n",
    "fig.tight_layout()"
   ]
  },
  {
   "cell_type": "code",
   "execution_count": null,
   "id": "06f02650-9e88-4442-a262-043e55155f91",
   "metadata": {},
   "outputs": [],
   "source": [
    "W = kwant.operator.Density(syst, np.kron(pauli.s0, pauli.s0)/4)\n",
    "W_bound = W.bind(params=params)\n",
    "\n",
    "S_x = kwant.operator.Density(syst, np.kron(pauli.sz, pauli.sx))\n",
    "S_x_bound = S_x.bind(params=params)"
   ]
  },
  {
   "cell_type": "code",
   "execution_count": null,
   "id": "395f8267-5535-4c91-86b5-6c4d20e1d2bf",
   "metadata": {},
   "outputs": [],
   "source": [
    "wf = []\n",
    "for i in range(theta_N):\n",
    "    wfi = []\n",
    "    for n in range(k):\n",
    "        wfi.append(W_bound(vs[i, :, n]))\n",
    "    wf.append(np.array(wfi))\n",
    "wf = np.array(wf)"
   ]
  },
  {
   "cell_type": "code",
   "execution_count": null,
   "id": "67376419-c1fb-456a-a998-f589e8336939",
   "metadata": {},
   "outputs": [],
   "source": [
    "x = np.linspace(-L_x/2, L_x/2, wf.shape[-1])\n",
    "\n",
    "n_idx = np.argmin(np.abs(ws[0]))\n",
    "\n",
    "fig, ax = plt.subplots()\n",
    "ax.plot(x, wf[0, n_idx], '-')\n",
    "ax.set_xlim(-300, 300)\n",
    "    \n",
    "ax2 = ax.twinx()\n",
    "ax2.plot(x, V(x, 0), 'C1-')"
   ]
  },
  {
   "cell_type": "code",
   "execution_count": null,
   "id": "0abd6525-2228-45f7-b680-2dc03695209b",
   "metadata": {},
   "outputs": [],
   "source": [
    "spins = np.zeros_like(ws)\n",
    "for i in range(theta_N):\n",
    "    for n in range(k):\n",
    "        spins[i, n] = np.sum(S_x(vs[i, :, n]))"
   ]
  },
  {
   "cell_type": "code",
   "execution_count": null,
   "id": "6da28fc0-ec3d-4c49-907c-335004bfeaf2",
   "metadata": {},
   "outputs": [],
   "source": [
    "fig, ax = plt.subplots(figsize=(3.375, 2))\n",
    "for n in range(k):\n",
    "    ax.scatter(theta_ax, ws[:, n] / Delta_0, s=0.1, c=spins[:, n], cmap=\"RdBu\", vmax=1, vmin=-1)\n",
    "ax.set_ylim(-3, 3)\n",
    "fig.tight_layout()"
   ]
  }
 ],
 "metadata": {
  "interpreter": {
   "hash": "4232733cd2b78061557fee225febb8f4a80345c7c9bb246cf17afc297c4526d3"
  },
  "kernelspec": {
   "display_name": "Python [conda env:qenv39]",
   "language": "python",
   "name": "conda-env-qenv39-py"
  },
  "language_info": {
   "codemirror_mode": {
    "name": "ipython",
    "version": 3
   },
   "file_extension": ".py",
   "mimetype": "text/x-python",
   "name": "python",
   "nbconvert_exporter": "python",
   "pygments_lexer": "ipython3",
   "version": "3.9.12"
  }
 },
 "nbformat": 4,
 "nbformat_minor": 5
}
